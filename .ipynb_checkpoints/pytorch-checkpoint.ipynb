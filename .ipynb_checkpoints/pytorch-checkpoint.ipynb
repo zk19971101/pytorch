{
 "cells": [
  {
   "cell_type": "code",
   "execution_count": 1,
   "id": "960df79f",
   "metadata": {},
   "outputs": [
    {
     "name": "stderr",
     "output_type": "stream",
     "text": [
      "D:\\anaconda\\envs\\pytorch\\lib\\site-packages\\tqdm\\auto.py:22: TqdmWarning: IProgress not found. Please update jupyter and ipywidgets. See https://ipywidgets.readthedocs.io/en/stable/user_install.html\n",
      "  from .autonotebook import tqdm as notebook_tqdm\n"
     ]
    }
   ],
   "source": [
    "import torch\n",
    "import torch.nn as nn"
   ]
  },
  {
   "cell_type": "code",
   "execution_count": 2,
   "id": "017ea1da",
   "metadata": {},
   "outputs": [],
   "source": [
    "class Mymodule(nn.Module):\n",
    "    def __init__(self):\n",
    "        super(Mymodule, self).__init__()\n",
    "        self.data = torch.zeros((3))"
   ]
  },
  {
   "cell_type": "code",
   "execution_count": 12,
   "id": "f917555e",
   "metadata": {},
   "outputs": [
    {
     "name": "stdout",
     "output_type": "stream",
     "text": [
      "parameters: []\n",
      "state_dict: OrderedDict()\n"
     ]
    }
   ],
   "source": [
    "model = Mymodule()\n",
    "print('parameters:', list(model.parameters()))\n",
    "print('state_dict:', model.state_dict())"
   ]
  },
  {
   "cell_type": "markdown",
   "id": "e843bb2f",
   "metadata": {},
   "source": [
    "## register_parameter在model中注册一个torch.nn.Parameter()，可以在model.parameters()和model.state_dict()显示，"
   ]
  },
  {
   "cell_type": "code",
   "execution_count": 4,
   "id": "6791b1f5",
   "metadata": {},
   "outputs": [
    {
     "name": "stdout",
     "output_type": "stream",
     "text": [
      "parameters: [Parameter containing:\n",
      "tensor([0., 0.], requires_grad=True)]\n",
      "state_dict: OrderedDict([('p1', tensor([0., 0.]))])\n",
      "get_parameter: Parameter containing:\n",
      "tensor([0., 0.], requires_grad=True)\n",
      "named_parameters: [('p1', Parameter containing:\n",
      "tensor([0., 0.], requires_grad=True))]\n"
     ]
    }
   ],
   "source": [
    "model.register_parameter('p1', nn.Parameter(torch.zeros((2))))\n",
    "print('parameters:', list(model.parameters()))\n",
    "print('state_dict:', model.state_dict())\n",
    "\n",
    "print('get_parameter:', model.get_parameter('p1'))\n",
    "print('named_parameters:', list(model.named_parameters()))"
   ]
  },
  {
   "cell_type": "markdown",
   "id": "46be21a3",
   "metadata": {},
   "source": [
    "## persistent为True时，buffer会在model.state_dict()中；反之则反。"
   ]
  },
  {
   "cell_type": "code",
   "execution_count": 6,
   "id": "7aa7d7e2",
   "metadata": {},
   "outputs": [
    {
     "name": "stdout",
     "output_type": "stream",
     "text": [
      "parameters: []\n",
      "state_dict: OrderedDict()\n"
     ]
    }
   ],
   "source": [
    "model.register_buffer('b1', torch.zeros((2)), persistent=False)\n",
    "print('parameters:', list(model.parameters()))\n",
    "print('state_dict:', model.state_dict())"
   ]
  },
  {
   "cell_type": "code",
   "execution_count": 8,
   "id": "0e18b590",
   "metadata": {},
   "outputs": [
    {
     "name": "stdout",
     "output_type": "stream",
     "text": [
      "parameters: []\n",
      "state_dict: OrderedDict([('b2', tensor([0., 0.]))])\n"
     ]
    }
   ],
   "source": [
    "model.register_buffer('b2', torch.zeros((2)), persistent=True)\n",
    "print('parameters:', list(model.parameters()))\n",
    "print('state_dict:', model.state_dict())"
   ]
  },
  {
   "cell_type": "code",
   "execution_count": 9,
   "id": "414bc277",
   "metadata": {},
   "outputs": [],
   "source": [
    "class Submodel1(nn.Module):\n",
    "    def __init__(self):\n",
    "        super(Submodel1, self).__init__()\n",
    "        self.sp1 = nn.Parameter(torch.zeros((3)))\n",
    "            \n",
    "submodel1 = Submodel1()\n",
    "submodel2 = nn.Sequential(nn.Linear(2, 2))"
   ]
  },
  {
   "cell_type": "markdown",
   "id": "423a25bc",
   "metadata": {},
   "source": [
    "## 向模型中添加Submodule类型的子模块，并且输出"
   ]
  },
  {
   "cell_type": "code",
   "execution_count": 11,
   "id": "438436e5",
   "metadata": {},
   "outputs": [
    {
     "name": "stdout",
     "output_type": "stream",
     "text": [
      "parameters: [Parameter containing:\n",
      "tensor([0., 0., 0.], requires_grad=True)]\n",
      "state_dict: OrderedDict([('submodel1.sp1', tensor([0., 0., 0.]))])\n",
      "get_module: Submodel1()\n",
      "named_children: [('submodel1', Submodel1())]\n",
      "named_modules: [('', Mymodule(\n",
      "  (submodel1): Submodel1()\n",
      ")), ('submodel1', Submodel1())]\n"
     ]
    }
   ],
   "source": [
    "model.add_module('submodel1', submodel1)\n",
    "print('parameters:', list(model.parameters()))\n",
    "print('state_dict:', model.state_dict())\n",
    "\n",
    "print('get_module:', model.get_submodule('submodel1'))\n",
    "print('named_children:', list(model.named_children()))\n",
    "print('named_modules:', list(model.named_modules()))"
   ]
  },
  {
   "cell_type": "markdown",
   "id": "9cef9316",
   "metadata": {},
   "source": [
    "## 向模型中添加Sequential类型的子模块，并且输出"
   ]
  },
  {
   "cell_type": "code",
   "execution_count": 13,
   "id": "bd3fc9e9",
   "metadata": {},
   "outputs": [
    {
     "name": "stdout",
     "output_type": "stream",
     "text": [
      "parameters: [Parameter containing:\n",
      "tensor([[-0.1705, -0.6878],\n",
      "        [-0.6807,  0.3237]], requires_grad=True), Parameter containing:\n",
      "tensor([-0.5274,  0.3852], requires_grad=True)]\n",
      "state_dict: OrderedDict([('submodel2.0.weight', tensor([[-0.1705, -0.6878],\n",
      "        [-0.6807,  0.3237]])), ('submodel2.0.bias', tensor([-0.5274,  0.3852]))])\n",
      "get_module: Sequential(\n",
      "  (0): Linear(in_features=2, out_features=2, bias=True)\n",
      ")\n",
      "named_children: [('submodel2', Sequential(\n",
      "  (0): Linear(in_features=2, out_features=2, bias=True)\n",
      "))]\n",
      "named_modules: [('', Mymodule(\n",
      "  (submodel2): Sequential(\n",
      "    (0): Linear(in_features=2, out_features=2, bias=True)\n",
      "  )\n",
      ")), ('submodel2', Sequential(\n",
      "  (0): Linear(in_features=2, out_features=2, bias=True)\n",
      ")), ('submodel2.0', Linear(in_features=2, out_features=2, bias=True))]\n"
     ]
    }
   ],
   "source": [
    "model.add_module('submodel2', submodel2)\n",
    "print('parameters:', list(model.parameters()))\n",
    "print('state_dict:', model.state_dict())\n",
    "\n",
    "print('get_module:', model.get_submodule('submodel2'))\n",
    "print('named_children:', list(model.named_children()))\n",
    "print('named_modules:', list(model.named_modules()))"
   ]
  },
  {
   "cell_type": "markdown",
   "id": "f5a6cea1",
   "metadata": {},
   "source": [
    "## 向模型中注册钩子函数"
   ]
  },
  {
   "cell_type": "code",
   "execution_count": 14,
   "id": "86d8c07c",
   "metadata": {},
   "outputs": [],
   "source": [
    "def forward_hook(target_layer,input, output):\n",
    "    print(list(target_layer.parameters()))\n",
    "class Model(nn.Module):\n",
    "    def __init__(self):\n",
    "        super(Model, self).__init__()\n",
    "        self.cnn = nn.Conv2d(in_channels=2, out_channels=4, kernel_size=(3, 3))\n",
    "    def forward(self, inputs):\n",
    "        out = self.cnn(inputs)\n",
    "        return out"
   ]
  },
  {
   "cell_type": "code",
   "execution_count": 15,
   "id": "cd8d8f29",
   "metadata": {},
   "outputs": [
    {
     "name": "stdout",
     "output_type": "stream",
     "text": [
      "[Parameter containing:\n",
      "tensor([[[[ 0.2212, -0.2307, -0.1123],\n",
      "          [ 0.0096,  0.2092,  0.1990],\n",
      "          [ 0.1003,  0.1667,  0.2103]],\n",
      "\n",
      "         [[ 0.0260, -0.2198, -0.0540],\n",
      "          [ 0.2053,  0.1322,  0.0139],\n",
      "          [ 0.2082,  0.0973,  0.0750]]],\n",
      "\n",
      "\n",
      "        [[[ 0.1326,  0.0301,  0.2125],\n",
      "          [-0.1453,  0.1786,  0.1431],\n",
      "          [-0.0130, -0.2326,  0.1381]],\n",
      "\n",
      "         [[-0.0576,  0.0096, -0.0003],\n",
      "          [-0.0596,  0.1225,  0.0084],\n",
      "          [ 0.2201, -0.0655,  0.1831]]],\n",
      "\n",
      "\n",
      "        [[[-0.0548, -0.2264,  0.1947],\n",
      "          [-0.0857,  0.0988,  0.1814],\n",
      "          [-0.1266,  0.1805,  0.0316]],\n",
      "\n",
      "         [[-0.0090,  0.1855, -0.1060],\n",
      "          [ 0.0259,  0.1473, -0.0550],\n",
      "          [-0.0258,  0.1454, -0.1527]]],\n",
      "\n",
      "\n",
      "        [[[ 0.1151,  0.0235, -0.1572],\n",
      "          [-0.1242, -0.1021, -0.1790],\n",
      "          [ 0.0626, -0.1168, -0.0263]],\n",
      "\n",
      "         [[ 0.1644,  0.0357,  0.0300],\n",
      "          [ 0.0640,  0.0385, -0.0118],\n",
      "          [-0.1499,  0.0441, -0.0263]]]], requires_grad=True), Parameter containing:\n",
      "tensor([-0.0660, -0.1794,  0.0555, -0.2297], requires_grad=True)]\n"
     ]
    }
   ],
   "source": [
    "inputs = torch.randn((2, 2, 4, 4))\n",
    "model = Model()\n",
    "model.cnn.register_forward_hook(forward_hook)\n",
    "out = model(inputs)\n",
    "# print(out)"
   ]
  }
 ],
 "metadata": {
  "kernelspec": {
   "display_name": "Python 3 (ipykernel)",
   "language": "python",
   "name": "python3"
  },
  "language_info": {
   "codemirror_mode": {
    "name": "ipython",
    "version": 3
   },
   "file_extension": ".py",
   "mimetype": "text/x-python",
   "name": "python",
   "nbconvert_exporter": "python",
   "pygments_lexer": "ipython3",
   "version": "3.8.13"
  }
 },
 "nbformat": 4,
 "nbformat_minor": 5
}
